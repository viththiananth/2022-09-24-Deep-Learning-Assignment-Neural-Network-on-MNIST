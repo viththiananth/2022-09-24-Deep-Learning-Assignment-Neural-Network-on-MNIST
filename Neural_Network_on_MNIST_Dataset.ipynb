{
  "nbformat": 4,
  "nbformat_minor": 0,
  "metadata": {
    "colab": {
      "provenance": [],
      "collapsed_sections": [
        "5j9cvMiErEAe",
        "rTKzIdf3Ay6I",
        "DXD-W-E_aT5Z",
        "4JAUXNd8BHYR",
        "rhPHErIAoBmq",
        "96Diw7FhCjiy",
        "OX49oyaQCurk",
        "Y1EJDdqkL5vk",
        "1rNHpMqsC35h",
        "zoxpHtNf-D90"
      ],
      "include_colab_link": true
    },
    "kernelspec": {
      "name": "python3",
      "display_name": "Python 3"
    },
    "language_info": {
      "name": "python"
    }
  },
  "cells": [
    {
      "cell_type": "markdown",
      "metadata": {
        "id": "view-in-github",
        "colab_type": "text"
      },
      "source": [
        "<a href=\"https://colab.research.google.com/github/viththiananth/20220922-Deep_Learning_Assignment-Neural_Network_on_MNIST/blob/2022_09_29-After-Remove-CNN-Part/Neural_Network_on_MNIST_Dataset.ipynb\" target=\"_parent\"><img src=\"https://colab.research.google.com/assets/colab-badge.svg\" alt=\"Open In Colab\"/></a>"
      ]
    },
    {
      "cell_type": "markdown",
      "source": [
        "# Using ANN:"
      ],
      "metadata": {
        "id": "xrz6A7V1iYOe"
      }
    },
    {
      "cell_type": "code",
      "source": [
        "import numpy as np\n",
        "import pandas as pd\n",
        "import tensorflow as tf\n",
        "from keras.layers import BatchNormalization\n",
        "import matplotlib.pyplot as plt\n",
        "from tensorflow.keras.models import Sequential\n",
        "from tensorflow.keras.layers import Dense, Conv2D, Dropout, Flatten, MaxPooling2D\n",
        "\n",
        "#Split the date into training and test dataset\n",
        "(x_train, y_train), (x_test, y_test) = tf.keras.datasets.mnist.load_data()\n",
        "\n",
        "print(x_train.shape)\n",
        "print(y_train.shape)\n",
        "print(x_test.shape)\n",
        "print(y_test.shape)"
      ],
      "metadata": {
        "colab": {
          "base_uri": "https://localhost:8080/"
        },
        "id": "mLnS99-TiWiN",
        "outputId": "637b569d-912c-40df-e17c-e6250249b2d2"
      },
      "execution_count": null,
      "outputs": [
        {
          "output_type": "stream",
          "name": "stdout",
          "text": [
            "Downloading data from https://storage.googleapis.com/tensorflow/tf-keras-datasets/mnist.npz\n",
            "11493376/11490434 [==============================] - 0s 0us/step\n",
            "11501568/11490434 [==============================] - 0s 0us/step\n",
            "(60000, 28, 28)\n",
            "(60000,)\n",
            "(10000, 28, 28)\n",
            "(10000,)\n"
          ]
        }
      ]
    },
    {
      "cell_type": "code",
      "source": [
        "print('Number of unique classes: ', len(np.unique(y_train)))\n",
        "print('Classes: ', np.unique(y_train))"
      ],
      "metadata": {
        "colab": {
          "base_uri": "https://localhost:8080/"
        },
        "id": "Qsh8gzDYlG_E",
        "outputId": "4e87242d-92d6-4fca-8400-5c0526f5276a"
      },
      "execution_count": null,
      "outputs": [
        {
          "output_type": "stream",
          "name": "stdout",
          "text": [
            "Number of unique classes:  10\n",
            "Classes:  [0 1 2 3 4 5 6 7 8 9]\n"
          ]
        }
      ]
    },
    {
      "cell_type": "code",
      "source": [
        "fig, axes = plt.subplots(nrows=2, ncols=5,figsize=(15,5))          \n",
        "ax = axes.ravel()\n",
        "for i in range(10):\n",
        "    ax[i].imshow(x_train[i].reshape(28,28))\n",
        "    ax[i].title.set_text('Class: ' + str(y_train[i]))              \n",
        "plt.subplots_adjust(hspace=0.5)                                    \n",
        "plt.show()"
      ],
      "metadata": {
        "colab": {
          "base_uri": "https://localhost:8080/",
          "height": 336
        },
        "id": "VL_lAaBMqdE-",
        "outputId": "0aaa0d0a-6111-4510-d31b-16798af5a3b1"
      },
      "execution_count": null,
      "outputs": [
        {
          "output_type": "display_data",
          "data": {
            "text/plain": [
              "<Figure size 1080x360 with 10 Axes>"
            ],
            "image/png": "[encoded data removed]"
          },
          "metadata": {
            "needs_background": "light"
          }
        }
      ]
    },
    {
      "cell_type": "code",
      "source": [
        "   #To visualize these numbers, we can get help from matplotlib.\n",
        "#%matplotlib inline # Only use this if using iPython\n",
        "image_index = 7777 # You may select anything up to 60,000\n",
        "print(y_train[image_index]) # The label is 8\n",
        "plt.imshow(x_train[image_index], cmap='Greys')"
      ],
      "metadata": {
        "colab": {
          "base_uri": "https://localhost:8080/",
          "height": 300
        },
        "id": "QVXFzJvXiWSF",
        "outputId": "8b6ea112-0a8d-46fb-c5c4-109cee70082b"
      },
      "execution_count": null,
      "outputs": [
        {
          "output_type": "stream",
          "name": "stdout",
          "text": [
            "8\n"
          ]
        },
        {
          "output_type": "execute_result",
          "data": {
            "text/plain": [
              "<matplotlib.image.AxesImage at 0x7f608eaa99d0>"
            ]
          },
          "metadata": {},
          "execution_count": 4
        },
        {
          "output_type": "display_data",
          "data": {
            "text/plain": [
              "<Figure size 432x288 with 1 Axes>"
            ],
            "image/png": "[encoded data removed]"
          },
          "metadata": {
            "needs_background": "light"
          }
        }
      ]
    },
    {
      "cell_type": "code",
      "source": [
        "# Normalize and print the image\n",
        "x_train1 = x_train.astype('float32')\n",
        "x_test1 = x_test.astype('float32')\n",
        "x_train1 /= 255\n",
        "x_test1 /= 255\n",
        "\n",
        "print(y_train[image_index]) # The label is 8\n",
        "plt.imshow(x_train1[image_index], cmap='Greys')"
      ],
      "metadata": {
        "colab": {
          "base_uri": "https://localhost:8080/",
          "height": 300
        },
        "id": "Gq1mLnrKiWBN",
        "outputId": "61c38c9d-6124-4bea-de82-ba413d50dcb1"
      },
      "execution_count": null,
      "outputs": [
        {
          "output_type": "stream",
          "name": "stdout",
          "text": [
            "8\n"
          ]
        },
        {
          "output_type": "execute_result",
          "data": {
            "text/plain": [
              "<matplotlib.image.AxesImage at 0x7f608ea97310>"
            ]
          },
          "metadata": {},
          "execution_count": 5
        },
        {
          "output_type": "display_data",
          "data": {
            "text/plain": [
              "<Figure size 432x288 with 1 Axes>"
            ],
            "image/png": "[encoded data removed]"
          },
          "metadata": {
            "needs_background": "light"
          }
        }
      ]
    },
    {
      "cell_type": "code",
      "source": [
        "#Creating a Sequential Model and adding the layers\n",
        "model = Sequential()\n",
        "model.add(Flatten())\n",
        "model.add(Dense(128, activation=tf.nn.relu))\n",
        "model.add(Dropout(0.2))\n",
        "model.add(Dense(128, activation=tf.nn.sigmoid))\n",
        "model.add(Dropout(0.2))\n",
        "model.add(Dense(10, activation = tf.nn.softmax))"
      ],
      "metadata": {
        "id": "YzBqaDWGiqlb"
      },
      "execution_count": null,
      "outputs": []
    },
    {
      "cell_type": "code",
      "source": [
        "model.compile(optimizer='adam', \n",
        "              loss='sparse_categorical_crossentropy', \n",
        "              metrics=['accuracy'])"
      ],
      "metadata": {
        "id": "Fa1xsMAkip2j"
      },
      "execution_count": null,
      "outputs": []
    },
    {
      "cell_type": "code",
      "source": [
        "history = model.fit(x_train, y_train, epochs=20, batch_size=200,validation_data=(x_test, y_test)).history"
      ],
      "metadata": {
        "colab": {
          "base_uri": "https://localhost:8080/"
        },
        "id": "Y4C_HFEziU9O",
        "outputId": "99d57054-f0f2-4635-d185-60caa6867035"
      },
      "execution_count": null,
      "outputs": [
        {
          "output_type": "stream",
          "name": "stdout",
          "text": [
            "Epoch 1/20\n",
            "300/300 [==============================] - 3s 8ms/step - loss: 0.7982 - accuracy: 0.7574 - val_loss: 0.3044 - val_accuracy: 0.9127\n",
            "Epoch 2/20\n",
            "300/300 [==============================] - 2s 8ms/step - loss: 0.3519 - accuracy: 0.8948 - val_loss: 0.2203 - val_accuracy: 0.9332\n",
            "Epoch 3/20\n",
            "300/300 [==============================] - 2s 8ms/step - loss: 0.2776 - accuracy: 0.9169 - val_loss: 0.1931 - val_accuracy: 0.9405\n",
            "Epoch 4/20\n",
            "300/300 [==============================] - 2s 7ms/step - loss: 0.2424 - accuracy: 0.9279 - val_loss: 0.1706 - val_accuracy: 0.9494\n",
            "Epoch 5/20\n",
            "300/300 [==============================] - 2s 7ms/step - loss: 0.2212 - accuracy: 0.9340 - val_loss: 0.1553 - val_accuracy: 0.9523\n",
            "Epoch 6/20\n",
            "300/300 [==============================] - 2s 7ms/step - loss: 0.1983 - accuracy: 0.9413 - val_loss: 0.1441 - val_accuracy: 0.9557\n",
            "Epoch 7/20\n",
            "300/300 [==============================] - 2s 7ms/step - loss: 0.1899 - accuracy: 0.9445 - val_loss: 0.1413 - val_accuracy: 0.9581\n",
            "Epoch 8/20\n",
            "300/300 [==============================] - 2s 8ms/step - loss: 0.1766 - accuracy: 0.9476 - val_loss: 0.1286 - val_accuracy: 0.9626\n",
            "Epoch 9/20\n",
            "300/300 [==============================] - 2s 7ms/step - loss: 0.1666 - accuracy: 0.9500 - val_loss: 0.1189 - val_accuracy: 0.9643\n",
            "Epoch 10/20\n",
            "300/300 [==============================] - 2s 7ms/step - loss: 0.1634 - accuracy: 0.9502 - val_loss: 0.1215 - val_accuracy: 0.9643\n",
            "Epoch 11/20\n",
            "300/300 [==============================] - 2s 7ms/step - loss: 0.1612 - accuracy: 0.9518 - val_loss: 0.1248 - val_accuracy: 0.9630\n",
            "Epoch 12/20\n",
            "300/300 [==============================] - 2s 7ms/step - loss: 0.1548 - accuracy: 0.9543 - val_loss: 0.1158 - val_accuracy: 0.9653\n",
            "Epoch 13/20\n",
            "300/300 [==============================] - 2s 8ms/step - loss: 0.1447 - accuracy: 0.9569 - val_loss: 0.1168 - val_accuracy: 0.9650\n",
            "Epoch 14/20\n",
            "300/300 [==============================] - 2s 7ms/step - loss: 0.1433 - accuracy: 0.9564 - val_loss: 0.1105 - val_accuracy: 0.9663\n",
            "Epoch 15/20\n",
            "300/300 [==============================] - 2s 8ms/step - loss: 0.1411 - accuracy: 0.9588 - val_loss: 0.1112 - val_accuracy: 0.9671\n",
            "Epoch 16/20\n",
            "300/300 [==============================] - 2s 8ms/step - loss: 0.1364 - accuracy: 0.9592 - val_loss: 0.1119 - val_accuracy: 0.9674\n",
            "Epoch 17/20\n",
            "300/300 [==============================] - 2s 7ms/step - loss: 0.1341 - accuracy: 0.9592 - val_loss: 0.1090 - val_accuracy: 0.9687\n",
            "Epoch 18/20\n",
            "300/300 [==============================] - 2s 8ms/step - loss: 0.1304 - accuracy: 0.9612 - val_loss: 0.1056 - val_accuracy: 0.9718\n",
            "Epoch 19/20\n",
            "300/300 [==============================] - 2s 8ms/step - loss: 0.1295 - accuracy: 0.9613 - val_loss: 0.1096 - val_accuracy: 0.9698\n",
            "Epoch 20/20\n",
            "300/300 [==============================] - 2s 8ms/step - loss: 0.1228 - accuracy: 0.9628 - val_loss: 0.1056 - val_accuracy: 0.9693\n"
          ]
        }
      ]
    },
    {
      "cell_type": "code",
      "source": [
        "print(model.summary())"
      ],
      "metadata": {
        "colab": {
          "base_uri": "https://localhost:8080/"
        },
        "id": "VWp60b1ejWi_",
        "outputId": "fe6be28e-561d-45fb-b72e-689adb5c7346"
      },
      "execution_count": null,
      "outputs": [
        {
          "output_type": "stream",
          "name": "stdout",
          "text": [
            "Model: \"sequential_6\"\n",
            "_________________________________________________________________\n",
            " Layer (type)                Output Shape              Param #   \n",
            "=================================================================\n",
            " flatten_5 (Flatten)         (200, 784)                0         \n",
            "                                                                 \n",
            " dense_13 (Dense)            (200, 128)                100480    \n",
            "                                                                 \n",
            " dropout_7 (Dropout)         (200, 128)                0         \n",
            "                                                                 \n",
            " dense_14 (Dense)            (200, 128)                16512     \n",
            "                                                                 \n",
            " dropout_8 (Dropout)         (200, 128)                0         \n",
            "                                                                 \n",
            " dense_15 (Dense)            (200, 10)                 1290      \n",
            "                                                                 \n",
            "=================================================================\n",
            "Total params: 118,282\n",
            "Trainable params: 118,282\n",
            "Non-trainable params: 0\n",
            "_________________________________________________________________\n",
            "None\n"
          ]
        }
      ]
    },
    {
      "cell_type": "code",
      "source": [
        "plt.plot(history['accuracy'])\n",
        "plt.plot(history['val_accuracy'])\n",
        "plt.title('model accuracy')\n",
        "plt.ylabel('accuracy')\n",
        "plt.xlabel('epoch')\n",
        "plt.legend(['train', 'test'], loc='upper left')"
      ],
      "metadata": {
        "colab": {
          "base_uri": "https://localhost:8080/",
          "height": 313
        },
        "id": "97xcANfCjWUz",
        "outputId": "b78a8783-f09b-4283-e408-d83509167b95"
      },
      "execution_count": null,
      "outputs": [
        {
          "output_type": "execute_result",
          "data": {
            "text/plain": [
              "<matplotlib.legend.Legend at 0x7f10b3ccfe10>"
            ]
          },
          "metadata": {},
          "execution_count": 52
        },
        {
          "output_type": "display_data",
          "data": {
            "text/plain": [
              "<Figure size 432x288 with 1 Axes>"
            ],
            "image/png": "[encoded data removed]"
          },
          "metadata": {
            "needs_background": "light"
          }
        }
      ]
    },
    {
      "cell_type": "code",
      "source": [
        "#Loss along with epochs\n",
        "plt.plot(history['loss'])\n",
        "plt.plot(history['val_loss'])\n",
        "plt.title('model loss')\n",
        "plt.ylabel('loss')\n",
        "plt.xlabel('epoch')\n",
        "plt.legend(['train', 'test'], loc='upper left')"
      ],
      "metadata": {
        "colab": {
          "base_uri": "https://localhost:8080/",
          "height": 313
        },
        "id": "y2Q2PBA6jViK",
        "outputId": "26561370-e145-4abb-db56-577c4a1ee035"
      },
      "execution_count": null,
      "outputs": [
        {
          "output_type": "execute_result",
          "data": {
            "text/plain": [
              "<matplotlib.legend.Legend at 0x7f10b5ab8510>"
            ]
          },
          "metadata": {},
          "execution_count": 53
        },
        {
          "output_type": "display_data",
          "data": {
            "text/plain": [
              "<Figure size 432x288 with 1 Axes>"
            ],
            "image/png": "[encoded data removed]"
          },
          "metadata": {
            "needs_background": "light"
          }
        }
      ]
    },
    {
      "cell_type": "code",
      "source": [],
      "metadata": {
        "id": "6nsPWdjukmYE"
      },
      "execution_count": null,
      "outputs": []
    },
    {
      "cell_type": "markdown",
      "source": [
        "### Optimization Methods\n",
        "1. Cross-Validation\n",
        "2. Image Augmentation\n",
        "3. Regularization (Dropout Layer)\n",
        "4. Increasing the number of epochs\n",
        "5. Adding more Dense layer\n",
        "6. Adding CNN layers"
      ],
      "metadata": {
        "id": "5j9cvMiErEAe"
      }
    }
  ]
}